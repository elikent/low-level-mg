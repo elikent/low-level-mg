{
 "cells": [
  {
   "cell_type": "markdown",
   "id": "b65aa56a",
   "metadata": {},
   "source": [
    "### Import and set-up"
   ]
  },
  {
   "cell_type": "code",
   "execution_count": 5,
   "id": "a7d020bc",
   "metadata": {},
   "outputs": [],
   "source": [
    "from dataclasses import dataclass, field\n",
    "from typing import List, Tuple, Any"
   ]
  },
  {
   "cell_type": "code",
   "execution_count": null,
   "id": "6186e764",
   "metadata": {},
   "outputs": [],
   "source": [
    "Instruction = Tuple[str, Any]\n",
    "\n",
    "# create boilerplate for dataclass CPU\n",
    "# dataclass decorator creates class boilerplates that already have __init__, __repr__, and __eq__ defined\n",
    "@dataclass\n",
    "class CPU:\n",
    "    mem: List[int] = field(default_factory=lambda: [0]*32)      # 32 integer cells of RAM\n",
    "    acc: int = 0                                                # Accumulator\n",
    "    idx: int = 0                                                # Index register\n",
    "    pc: int = 0                                                 # Program counter\n",
    "    halted: bool = False\n",
    "    program: List[Instruction] = field(default_factory=list)    # program is a List of Instructions (list of tuples)\n",
    "\n",
    "    # load program, with starting values for each field except mem\n",
    "    def load_program(self, program: List[Instruction]):\n",
    "        '''Load a list of instructions and reset CPU state.'''\n",
    "        self.program = program\n",
    "        self.pc = 0\n",
    "        self.halted = False\n",
    "        self.acc = 0\n",
    "        self.idx = 0\n",
    "        # memory persists until you overwrite cpu.mem explicitly\n",
    "\n",
    "    def dump(self):\n",
    "        '''Snapshot of key state for quick inspection'''\n",
    "        return{\n",
    "            'PC': self.pc,\n",
    "            'ACC': self.acc,\n",
    "            'IDX': self.idx,\n",
    "            'HALTED': self.halted,\n",
    "            'MEMO..7': self.mem[:8]\n",
    "        }\n",
    "    \n",
    "    def step(self):\n",
    "        '''Execute exactly the next instruction'''\n",
    "        # if halted or pc is not between 0 and len(program), set halted = True\n",
    "        if self.halted or not (0 <= self.pc <= len(self.program)):\n",
    "            self.halted = True \n",
    "            return\n",
    "        \n",
    "        # reset\n",
    "        target = None\n",
    "        target_index = None\n",
    "        off = None\n",
    "        off_target = None\n",
    "        addr = None\n",
    "\n",
    "        instr = self.program[self.pc]\n",
    "        # unpack instruction into op and *args or \n",
    "        op, *args = instr if isinstance(instr, tuple) else (instr,)\n",
    "        self.pc += 1\n",
    "\n",
    "        # enforce that *args[0] is int\n",
    "        if len(args) >= 1 and not isinstance(args[0], int):\n",
    "            raise TypeError(f'({op}, {args}): second tuple item must be an int')\n",
    "\n",
    "        # sets of similar instructions\n",
    "        uses_addr = {'STORE_ABS', 'LOAD_ABS', 'ADD_ABS'}\n",
    "        uses_off = {'LOAD_IDX_OFF', 'ADD_IDX_OFF'}\n",
    "\n",
    "        # set addr\n",
    "        def set_addr\n",
    "        op_uses_addr = op in uses_addr.union(uses_off)\n",
    "        if op_uses_addr:\n",
    "            if not args:\n",
    "                raise ValueError(f'op {op} must have memory address.')\n",
    "            addr = args[0]\n",
    "            if not(0 <= addr < len(self.mem)):\n",
    "                raise IndexError(f'({op}, {args}) contains a bad memory address.')\n",
    "        \n",
    "        # set offset\n",
    "        op_uses_offset = op in uses_off\n",
    "        if op_uses_offset:\n",
    "            if not args:\n",
    "                raise ValueError(f'op {op} must have offset.')\n",
    "            off = args[1]\n",
    "            off_target = self.idx + off\n",
    "            if not (0 <= off_target < len(self.mem)):\n",
    "                raise IndexError(f'({op}, {args}) results in a bad memory address.')\n",
    "\n",
    "        def _check_idx(self):\n",
    "            if not (0 <= self.idx < len(self.mem)):\n",
    "                raise IndexError(f'IDX out of range: {self.idx}')\n",
    "        \n",
    "        # check for inc/dec\n",
    "        def _check_target_idx(self):\n",
    "            if \n",
    "\n",
    "\n",
    "        if op == 'LOADI':           # ACC <- immediate\n",
    "            self.acc = args[0]\n",
    "        elif op == 'LOAD_ABS':      # ACC <- mem[addr]\n",
    "            # good address enforced in set addr\n",
    "            self.acc = self.mem[addr]\n",
    "        elif op == 'LOAD_IDX':      # ACC <- mem[idx]\n",
    "            _check_idx()\n",
    "            self.acc = self.mem[self.idx]\n",
    "        elif op == 'LOAD_IDX_OFF':  # ACC <- mem[idx+off]\n",
    "            target_index = off_target\n",
    "            self.ACC = self.mem[target_index]\n",
    "        elif op == 'STORE_ABS':     # mem[addr] <- ACC\n",
    "            self.mem[addr] = self.acc\n",
    "        elif op == 'STORE_IDX':     # mem[idx] <- ACC\n",
    "            _check_idx()\n",
    "            self.mem[self.idx] = self.acc\n",
    "        elif op == 'STORE_IDX_OFF':  # mem[idx+off] <- ACC\n",
    "            target_index = off_target\n",
    "            self.mem[target_index] = self.acc\n",
    "        elif op == 'ADDI':          # acc = acc + immediate\n",
    "            self.acc = self.acc + args[0]\n",
    "        elif op == 'ADD_ABS':       # acc = acc + mem[addr]\n",
    "            self.acc = self.acc + self.mem[addr]\n",
    "        elif op == 'ADD_IDX':       # acc = acc + mem[idx]\n",
    "            _check_idx()\n",
    "            self.acc += self.mem[self.idx]\n",
    "        elif op == 'INC_IDX':       \n",
    "            self.idx += 1\n",
    "        elif op == 'DEC_IDX':\n",
    "            self.idx -= 1\n",
    "        elif op == 'JUMP_ABS':      # Absolute jump\n",
    "            target = int(args[0])\n",
    "            if not (0 <= target < len(self.program)):\n",
    "                raise IndexError(f'Bad pc: {target}')\n",
    "            self.pc = target\n",
    "        elif op == 'JUMP_REL':      # Relative jump\n",
    "            target = self.pc + int(args[0])\n",
    "            if not (0 <= target < len(self.program)):\n",
    "                raise IndexError(f'Bad pc: {target}')\n",
    "            self.pc = target\n",
    "        elif op == 'HALT':          # stop execution\n",
    "            self.halted = True\n",
    "        else:\n",
    "            raise NotImplementedError(f'Unknown op: {op}')        \n",
    "    \n",
    "    def run(self, max_steps=100):\n",
    "        '''Run up to max_steps or until halted.'''\n",
    "        steps = 0\n",
    "        while not self.halted and steps < max_steps:\n",
    "            self.step()\n",
    "            steps += 1\n",
    "        return steps\n"
   ]
  },
  {
   "cell_type": "code",
   "execution_count": 36,
   "id": "342b75cf",
   "metadata": {},
   "outputs": [],
   "source": [
    "prog = [\n",
    "    ('LOADI', -7),\n",
    "    ('STORE_ABS', 0),\n",
    "    ('LOADI', 12),\n",
    "    ('STORE_ABS', 1),\n",
    "    ('LOAD_ABS', 1),\n",
    "    ('HALT',),\n",
    "]"
   ]
  },
  {
   "cell_type": "code",
   "execution_count": 37,
   "id": "4280bc9e",
   "metadata": {},
   "outputs": [
    {
     "name": "stdout",
     "output_type": "stream",
     "text": [
      "{'PC': 6, 'ACC': 12, 'IDX': 0, 'HALTED': True, 'MEMO..7': [-7, 12, 0, 0, 0, 0, 0, 0]}\n"
     ]
    }
   ],
   "source": [
    "cpu = CPU()\n",
    "cpu.load_program(prog)\n",
    "cpu.run()\n",
    "print(cpu.dump())\n"
   ]
  },
  {
   "cell_type": "code",
   "execution_count": 41,
   "id": "dd2074a8",
   "metadata": {},
   "outputs": [
    {
     "data": {
      "text/plain": [
       "False"
      ]
     },
     "execution_count": 41,
     "metadata": {},
     "output_type": "execute_result"
    }
   ],
   "source": [
    "args = [3, 4, 'bobi']\n",
    "\n",
    "all([isinstance(arg, int) for arg in args])"
   ]
  },
  {
   "cell_type": "code",
   "execution_count": null,
   "id": "14716d50",
   "metadata": {},
   "outputs": [],
   "source": []
  }
 ],
 "metadata": {
  "kernelspec": {
   "display_name": ".venv",
   "language": "python",
   "name": "python3"
  },
  "language_info": {
   "codemirror_mode": {
    "name": "ipython",
    "version": 3
   },
   "file_extension": ".py",
   "mimetype": "text/x-python",
   "name": "python",
   "nbconvert_exporter": "python",
   "pygments_lexer": "ipython3",
   "version": "3.12.1"
  }
 },
 "nbformat": 4,
 "nbformat_minor": 5
}
