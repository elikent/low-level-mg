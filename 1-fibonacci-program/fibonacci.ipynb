{
 "cells": [
  {
   "cell_type": "markdown",
   "id": "b65aa56a",
   "metadata": {},
   "source": [
    "### Import and set-up"
   ]
  },
  {
   "cell_type": "code",
   "execution_count": null,
   "id": "a7d020bc",
   "metadata": {
    "vscode": {
     "languageId": "plaintext"
    }
   },
   "outputs": [],
   "source": []
  }
 ],
 "metadata": {
  "language_info": {
   "name": "python"
  }
 },
 "nbformat": 4,
 "nbformat_minor": 5
}
